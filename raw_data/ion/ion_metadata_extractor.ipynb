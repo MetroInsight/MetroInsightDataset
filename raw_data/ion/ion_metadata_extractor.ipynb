{
 "cells": [
  {
   "cell_type": "code",
   "execution_count": 12,
   "metadata": {
    "collapsed": false
   },
   "outputs": [],
   "source": [
    "from building_depot import DataService, BDError\n",
    "import json\n",
    "import pandas as pd\n",
    "import arrow\n",
    "import pdb\n",
    "from collections import defaultdict\n",
    "import re\n",
    "from copy import deepcopy"
   ]
  },
  {
   "cell_type": "code",
   "execution_count": 13,
   "metadata": {
    "collapsed": false
   },
   "outputs": [],
   "source": [
    "with open(\"config/ion_config.json\", \"r\") as fp:\n",
    "    configs = json.load(fp)\n",
    "    base_url = configs['base_url']\n",
    "    start_time = arrow.get(configs['start_time']).datetime\n",
    "    end_time = arrow.get(configs['end_time']).datetime\n",
    "with open(\"config/bd2_3secrets.json\", \"r\") as fp:\n",
    "    cred = json.load(fp)\n",
    "    apikey = cred['api_key']\n",
    "    username = cred['username']\n",
    "bd = DataService(base_url, apikey, username)"
   ]
  },
  {
   "cell_type": "code",
   "execution_count": 14,
   "metadata": {
    "collapsed": false
   },
   "outputs": [],
   "source": [
    "def make_series(bd_data):\n",
    "    time_list = list()\n",
    "    value_list = list()\n",
    "    for datum in data:\n",
    "        time_list.append(datum.keys()[0])\n",
    "        value_list.append(datum.values()[0])\n",
    "    return pd.Series(index=time_list, data=value_list)"
   ]
  },
  {
   "cell_type": "code",
   "execution_count": 15,
   "metadata": {
    "collapsed": true
   },
   "outputs": [],
   "source": [
    "#bd = DataService(base_url, apikey, username)\n",
    "orig_metadata_df = pd.DataFrame.from_csv('metadata/ion.txt', )"
   ]
  },
  {
   "cell_type": "code",
   "execution_count": 16,
   "metadata": {
    "collapsed": false,
    "scrolled": true
   },
   "outputs": [],
   "source": [
    "srcid_dict = dict()\n",
    "metadata_dict = defaultdict(dict)\n",
    "for srcid, row in orig_metadata_df.iterrows():\n",
    "    uuid = row['uuid']\n",
    "    data = bd.get_timeseries_datapoints(uuid, \"PresentValue\", start_time, end_time)['timeseries']\n",
    "    if len(data)>1:\n",
    "        sensor = bd.view_sensor(uuid)\n",
    "        metadata_dict[srcid]['bd_uuid'] = uuid\n",
    "        metadata_dict[srcid]['name'] = sensor['source_identifier']\n",
    "        #make_series(data).to_csv(datadir+uuid+'.csv')\n",
    "metadata_dict = dict(metadata_dict)"
   ]
  },
  {
   "cell_type": "code",
   "execution_count": 17,
   "metadata": {
    "collapsed": false
   },
   "outputs": [],
   "source": [
    "metadata_dict_backup = deepcopy(metadata_dict)"
   ]
  },
  {
   "cell_type": "code",
   "execution_count": 18,
   "metadata": {
    "collapsed": true
   },
   "outputs": [],
   "source": [
    "def building_id_extractor(name):\n",
    "    campus_name = name.split('.')[0]\n",
    "    building_name =  '_'.join(name.split('.')[1].split(':')[0].split('_')[:-1])\n",
    "    return campus_name + '_' + building_name\n",
    "\n",
    "def point_type_extractor(name):\n",
    "    return name.split(':')[-1]"
   ]
  },
  {
   "cell_type": "code",
   "execution_count": 19,
   "metadata": {
    "collapsed": false
   },
   "outputs": [],
   "source": [
    "#building_name_set = set()\n",
    "#for srcid, metadata in metadata_dict.items():\n",
    "#    name = metadata['name']\n",
    "#    building_name_set.add(building_id_extractor(name))\n",
    "#with open('./metadata/ion_building_set.json', 'w') as fp:\n",
    "#    json.dump(\n",
    "#        dict([(building_name, \"\") for building_name in building_name_set]), fp, indent=2, sort_keys=True)    "
   ]
  },
  {
   "cell_type": "code",
   "execution_count": 20,
   "metadata": {
    "collapsed": false
   },
   "outputs": [],
   "source": [
    "with open('metadata/building_info.json' ,'r') as fp:\n",
    "    building_info = json.load(fp)\n",
    "with open('metadata/ion_unit_map.json', 'r') as fp:\n",
    "    unit_map = json.load(fp)\n",
    "with open('metadata/ion_point_map.json', 'r') as fp:\n",
    "    point_map = json.load(fp)\n",
    "with open('metadata/ion_building_mapping.json', 'r') as fp:\n",
    "    building_map = json.load(fp)"
   ]
  },
  {
   "cell_type": "code",
   "execution_count": 21,
   "metadata": {
    "collapsed": false
   },
   "outputs": [],
   "source": [
    "for srcid, metadata in metadata_dict.items():\n",
    "    name = metadata['name']\n",
    "    building_id = building_id_extractor(name)\n",
    "    building_name = building_map[building_id]\n",
    "    if len(building_name)>0:\n",
    "        building = building_info[building_name]\n",
    "        metadata['latitude'] = building['location']['latitude']\n",
    "        metadata['longitude'] = building['location']['longitude']\n",
    "    point_id = point_type_extractor(name)\n",
    "    point_type = point_map[point_id]\n",
    "    unit = unit_map[point_id]\n",
    "    metadata['point_type'] = point_type\n",
    "    metadata['unit'] = unit\n",
    "    #metadata_dict[srcid] = metadata\n",
    "    \n",
    "with open('metadata/ion_metadata.json', 'w') as fp:\n",
    "    json.dump(metadata_dict, fp, indent=4)"
   ]
  },
  {
   "cell_type": "code",
   "execution_count": null,
   "metadata": {
    "collapsed": true
   },
   "outputs": [],
   "source": []
  }
 ],
 "metadata": {
  "anaconda-cloud": {},
  "kernelspec": {
   "display_name": "Python 3",
   "language": "python",
   "name": "python3"
  },
  "language_info": {
   "codemirror_mode": {
    "name": "ipython",
    "version": 3
   },
   "file_extension": ".py",
   "mimetype": "text/x-python",
   "name": "python",
   "nbconvert_exporter": "python",
   "pygments_lexer": "ipython3",
   "version": "3.6.0"
  }
 },
 "nbformat": 4,
 "nbformat_minor": 1
}
