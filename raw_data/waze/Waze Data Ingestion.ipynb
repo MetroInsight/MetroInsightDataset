{
 "cells": [
  {
   "cell_type": "code",
   "execution_count": null,
   "metadata": {
    "collapsed": false
   },
   "outputs": [],
   "source": [
    "from citadel import Citadel\n",
    "import json\n",
    "import pandas as pd\n",
    "from copy import deepcopy\n",
    "import pdb\n",
    "import arrow\n",
    "import re\n",
    "from plpygis import Geometry"
   ]
  },
  {
   "cell_type": "code",
   "execution_count": null,
   "metadata": {
    "collapsed": false
   },
   "outputs": [],
   "source": [
    "with open('config/citadel_config.json', 'r') as fp:\n",
    "    citadel_config = json.load(fp)\n",
    "citadel = Citadel(citadel_config['hostname'], citadel_config['apikey'])"
   ]
  },
  {
   "cell_type": "code",
   "execution_count": null,
   "metadata": {
    "collapsed": false
   },
   "outputs": [],
   "source": [
    "df = pd.read_csv('data/sample_waze.csv')\n",
    "df.head()"
   ]
  },
  {
   "cell_type": "code",
   "execution_count": null,
   "metadata": {
    "collapsed": true
   },
   "outputs": [],
   "source": [
    "metadata_columns = ['street', 'city', 'road_type']\n",
    "data_columns = ['length', 'delay', 'speed', 'level']"
   ]
  },
  {
   "cell_type": "code",
   "execution_count": null,
   "metadata": {
    "collapsed": true
   },
   "outputs": [],
   "source": [
    "unit_map = {\n",
    "    'traffic_length': 'MI',\n",
    "    'traffic_delay': 'SEC',\n",
    "    'traffic_level': 'no_unit',\n",
    "    'traffic_speed': 'MI-PER-HR',\n",
    "}\n",
    "point_type_map = {\n",
    "    'length': 'traffic_length',\n",
    "    'delay': 'traffic_delay',\n",
    "    'level': 'traffic_level',\n",
    "    'speed': 'traffic_speed'\n",
    "}\n",
    "\n",
    "def get_name(srcid, point_type):\n",
    "    return 'waze_{0}_{1}'.format(srcid, point_type)\n",
    "\n",
    "def geom2xys(geom):\n",
    "    return Geometry(geom).geojson['coordinates']\n",
    "\n",
    "def str2xys(linestr):\n",
    "    coo_strs = re.findall('\\(.+\\)', linestr)[0][1:-1].split(',')\n",
    "    coordinates = []\n",
    "    for coo_str in coo_strs:\n",
    "        coo_strs = coo_str.split()\n",
    "        lng = float(coo_strs[0])\n",
    "        lat = float(coo_strs[1])\n",
    "        coordinates.append([lng, lat])\n",
    "    return coordinates"
   ]
  },
  {
   "cell_type": "code",
   "execution_count": null,
   "metadata": {
    "collapsed": false
   },
   "outputs": [],
   "source": [
    "srcids = df['uuid'].unique()\n",
    "print(len(srcids))"
   ]
  },
  {
   "cell_type": "code",
   "execution_count": null,
   "metadata": {
    "collapsed": false,
    "scrolled": true
   },
   "outputs": [],
   "source": [
    "# Structuring Metadata \n",
    "metadatas = dict()\n",
    "cnt = 0\n",
    "for srcid in srcids:\n",
    "    if cnt % 10000 == 0:\n",
    "        print('created {0} points'.format(cnt))\n",
    "    traffic = df.loc[df['uuid']==srcid].iloc[0]\n",
    "    traffic = dict((k, traffic[k]) for k in metadata_columns)\n",
    "    #for srcid in srcids:\n",
    "    traffic = dict()\n",
    "    traffic['waze_srcid'] = str(srcid)\n",
    "    for col in data_columns:\n",
    "        point_type = 'traffic_' + col\n",
    "        point = deepcopy(traffic)\n",
    "        name = get_name(srcid, point_type)\n",
    "        point['pointType'] = point_type\n",
    "        point['unit'] = unit_map[point_type]\n",
    "        point['name'] = name\n",
    "        metadatas[name] = point\n",
    "        uuids = citadel.query_points({'name': name})\n",
    "        if not uuids:\n",
    "            uuid = citadel.create_point(point)\n",
    "            if not uuid:\n",
    "                pdb.set_trace()\n",
    "        else:\n",
    "            uuid = uuids[0]\n",
    "        pdb.set_trace()\n",
    "        point['uuid'] = uuid\n",
    "        metadatas[name] = point"
   ]
  },
  {
   "cell_type": "code",
   "execution_count": null,
   "metadata": {
    "collapsed": false
   },
   "outputs": [],
   "source": [
    "with open('metadata/waze-metadata', 'w') as fp:\n",
    "    json.dump(metadatas, fp)"
   ]
  },
  {
   "cell_type": "code",
   "execution_count": null,
   "metadata": {
    "collapsed": false
   },
   "outputs": [],
   "source": [
    "data = []\n",
    "cnt = 0\n",
    "for _, row in df.iterrows():\n",
    "    if row['uuid'] not in srcids:\n",
    "        continue\n",
    "    cnt += 1\n",
    "    if cnt % 100000 == 0:\n",
    "        print('pushed {0} data'.format(cnt))\n",
    "    srcid = row['uuid']\n",
    "    t = arrow.get(row['waze_timestamp']).timestamp * 1000\n",
    "    line = geom2xys(row['geom'])\n",
    "    for data_col in data_columns:\n",
    "        point_type = point_type_map[data_col]\n",
    "        name = get_name(srcid, point_type)\n",
    "        uuid = metadatas[name]['uuid']\n",
    "        datum = {\n",
    "            'value': row[data_col],\n",
    "            'coordinates': line,\n",
    "            'timestamp': t,\n",
    "            'geometryType': 'line',\n",
    "            'uuid': uuid,\n",
    "        }\n",
    "        data.append(datum)\n",
    "    if len(data) > 1000:\n",
    "        res = citadel.post_data(data)\n",
    "        if not res:\n",
    "            print(\"Failed\")\n",
    "        data = []"
   ]
  },
  {
   "cell_type": "code",
   "execution_count": null,
   "metadata": {
    "collapsed": false
   },
   "outputs": [],
   "source": [
    "uuid = list(metadatas.values())[0]['uuid']"
   ]
  },
  {
   "cell_type": "code",
   "execution_count": null,
   "metadata": {
    "collapsed": false,
    "scrolled": true
   },
   "outputs": [],
   "source": [
    "begin_time = arrow.get()\n",
    "citadel.get_data(uuid=uuid)\n",
    "end_time = arrow.get()\n",
    "print(end_time - begin_time)"
   ]
  },
  {
   "cell_type": "code",
   "execution_count": null,
   "metadata": {
    "collapsed": false
   },
   "outputs": [],
   "source": [
    "begin_time = arrow.get()\n",
    "data= citadel.query_bbox(-117.006479, 32.621095, -117.002479, 32.651195, 1486063580000, 1486203580000, [uuid])\n",
    "end_time = arrow.get()\n",
    "print(end_time - begin_time)"
   ]
  },
  {
   "cell_type": "code",
   "execution_count": null,
   "metadata": {
    "collapsed": true
   },
   "outputs": [],
   "source": []
  }
 ],
 "metadata": {
  "kernelspec": {
   "display_name": "Python 3",
   "language": "python",
   "name": "python3"
  },
  "language_info": {
   "codemirror_mode": {
    "name": "ipython",
    "version": 3
   },
   "file_extension": ".py",
   "mimetype": "text/x-python",
   "name": "python",
   "nbconvert_exporter": "python",
   "pygments_lexer": "ipython3",
   "version": "3.6.0"
  }
 },
 "nbformat": 4,
 "nbformat_minor": 2
}
