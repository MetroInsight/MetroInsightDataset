{
 "cells": [
  {
   "cell_type": "code",
   "execution_count": 65,
   "metadata": {
    "collapsed": false
   },
   "outputs": [],
   "source": [
    "from citadel import Citadel\n",
    "import json\n",
    "import pandas as pd\n",
    "from copy import deepcopy\n",
    "import pdb"
   ]
  },
  {
   "cell_type": "code",
   "execution_count": 54,
   "metadata": {
    "collapsed": true
   },
   "outputs": [],
   "source": [
    "with open('config/citadel_config.json', 'r') as fp:\n",
    "    citadel_config = json.load(fp)\n",
    "citadel = Citadel(citadel_config['hostname'], citadel_config['apikey'])"
   ]
  },
  {
   "cell_type": "code",
   "execution_count": 10,
   "metadata": {
    "collapsed": false
   },
   "outputs": [
    {
     "data": {
      "text/html": [
       "<div>\n",
       "<table border=\"1\" class=\"dataframe\">\n",
       "  <thead>\n",
       "    <tr style=\"text-align: right;\">\n",
       "      <th></th>\n",
       "      <th>uuid</th>\n",
       "      <th>waze_timestamp</th>\n",
       "      <th>street</th>\n",
       "      <th>end_node</th>\n",
       "      <th>city</th>\n",
       "      <th>length</th>\n",
       "      <th>delay</th>\n",
       "      <th>speed</th>\n",
       "      <th>level</th>\n",
       "      <th>roadtype</th>\n",
       "      <th>line</th>\n",
       "    </tr>\n",
       "  </thead>\n",
       "  <tbody>\n",
       "    <tr>\n",
       "      <th>0</th>\n",
       "      <td>1833531258</td>\n",
       "      <td>2017-02-03 23:13:00:000</td>\n",
       "      <td>E Palomar St</td>\n",
       "      <td>Santa Andrea St</td>\n",
       "      <td>Chula Vista, CA</td>\n",
       "      <td>918</td>\n",
       "      <td>194</td>\n",
       "      <td>3.455556</td>\n",
       "      <td>3</td>\n",
       "      <td>2</td>\n",
       "      <td>LINESTRING (-117.004479 32.621195, -117.003013...</td>\n",
       "    </tr>\n",
       "    <tr>\n",
       "      <th>1</th>\n",
       "      <td>1835749474</td>\n",
       "      <td>2017-02-03 23:13:00:000</td>\n",
       "      <td>Coronado Ave</td>\n",
       "      <td>to I-5 S</td>\n",
       "      <td>San Diego, CA</td>\n",
       "      <td>408</td>\n",
       "      <td>153</td>\n",
       "      <td>2.088889</td>\n",
       "      <td>4</td>\n",
       "      <td>7</td>\n",
       "      <td>LINESTRING (-117.088446 32.576476, -117.087761...</td>\n",
       "    </tr>\n",
       "    <tr>\n",
       "      <th>2</th>\n",
       "      <td>1835187546</td>\n",
       "      <td>2017-02-03 23:13:00:000</td>\n",
       "      <td>3rd Ave</td>\n",
       "      <td>L St</td>\n",
       "      <td>Chula Vista, CA</td>\n",
       "      <td>1006</td>\n",
       "      <td>294</td>\n",
       "      <td>2.686111</td>\n",
       "      <td>3</td>\n",
       "      <td>2</td>\n",
       "      <td>LINESTRING (-117.068427 32.61198, -117.068756 ...</td>\n",
       "    </tr>\n",
       "    <tr>\n",
       "      <th>3</th>\n",
       "      <td>1800053699</td>\n",
       "      <td>2017-02-03 23:13:00:000</td>\n",
       "      <td>Hoover Ave</td>\n",
       "      <td>W 21st St</td>\n",
       "      <td>National City, CA</td>\n",
       "      <td>100</td>\n",
       "      <td>-1</td>\n",
       "      <td>0.000000</td>\n",
       "      <td>5</td>\n",
       "      <td>1</td>\n",
       "      <td>LINESTRING (-117.10495 32.664898, -117.104636 ...</td>\n",
       "    </tr>\n",
       "    <tr>\n",
       "      <th>4</th>\n",
       "      <td>1802056625</td>\n",
       "      <td>2017-02-03 23:13:00:000</td>\n",
       "      <td>Hoover Ave</td>\n",
       "      <td>NaN</td>\n",
       "      <td>National City, CA</td>\n",
       "      <td>100</td>\n",
       "      <td>-1</td>\n",
       "      <td>0.000000</td>\n",
       "      <td>5</td>\n",
       "      <td>1</td>\n",
       "      <td>LINESTRING (-117.104636 32.664031, -117.10495 ...</td>\n",
       "    </tr>\n",
       "  </tbody>\n",
       "</table>\n",
       "</div>"
      ],
      "text/plain": [
       "         uuid           waze_timestamp        street         end_node  \\\n",
       "0  1833531258  2017-02-03 23:13:00:000  E Palomar St  Santa Andrea St   \n",
       "1  1835749474  2017-02-03 23:13:00:000  Coronado Ave         to I-5 S   \n",
       "2  1835187546  2017-02-03 23:13:00:000       3rd Ave             L St   \n",
       "3  1800053699  2017-02-03 23:13:00:000    Hoover Ave        W 21st St   \n",
       "4  1802056625  2017-02-03 23:13:00:000    Hoover Ave              NaN   \n",
       "\n",
       "                city  length  delay     speed  level  roadtype  \\\n",
       "0    Chula Vista, CA     918    194  3.455556      3         2   \n",
       "1      San Diego, CA     408    153  2.088889      4         7   \n",
       "2    Chula Vista, CA    1006    294  2.686111      3         2   \n",
       "3  National City, CA     100     -1  0.000000      5         1   \n",
       "4  National City, CA     100     -1  0.000000      5         1   \n",
       "\n",
       "                                                line  \n",
       "0  LINESTRING (-117.004479 32.621195, -117.003013...  \n",
       "1  LINESTRING (-117.088446 32.576476, -117.087761...  \n",
       "2  LINESTRING (-117.068427 32.61198, -117.068756 ...  \n",
       "3  LINESTRING (-117.10495 32.664898, -117.104636 ...  \n",
       "4  LINESTRING (-117.104636 32.664031, -117.10495 ...  "
      ]
     },
     "execution_count": 10,
     "metadata": {},
     "output_type": "execute_result"
    }
   ],
   "source": [
    "df = pd.read_csv('data/sample_waze.csv')\n",
    "df.head()"
   ]
  },
  {
   "cell_type": "code",
   "execution_count": 34,
   "metadata": {
    "collapsed": true
   },
   "outputs": [],
   "source": [
    "metadata_columns = ['street', 'city', 'roadtype']\n",
    "data_columns = ['length', 'delay', 'speed', 'level']"
   ]
  },
  {
   "cell_type": "markdown",
   "metadata": {},
   "source": [
    "### Column Classification\n",
    "\n",
    "- Metadata columns: street, city, roadtype\n",
    "- Datastream columns: length, delay, speed, level (waze_timestamp and line are common across the datastreams)"
   ]
  },
  {
   "cell_type": "code",
   "execution_count": null,
   "metadata": {
    "collapsed": true
   },
   "outputs": [],
   "source": [
    "unit_map = {\n",
    "    'traffic_length': 'MI',\n",
    "    'traffic_delay': 'SEC',\n",
    "    'traffic_level': 'no_unit',\n",
    "    'traffic_speed': 'MI-PER-HR',\n",
    "}\n",
    "point_type_map = {\n",
    "    'length': 'traffic_length',\n",
    "    'delay': 'traffic_delay',\n",
    "    'level': 'traffic_level',\n",
    "    'speed': 'traffic_speed'\n",
    "}\n",
    "def get_name(srcid, point_type):\n",
    "    return 'waze_{0}_{1}'.format(srcid, point_type)"
   ]
  },
  {
   "cell_type": "code",
   "execution_count": 22,
   "metadata": {
    "collapsed": false
   },
   "outputs": [],
   "source": [
    "srcids = df['uuid'].unique()\n",
    "srcid = srcids[0]"
   ]
  },
  {
   "cell_type": "code",
   "execution_count": 27,
   "metadata": {
    "collapsed": false
   },
   "outputs": [
    {
     "data": {
      "text/html": [
       "<div>\n",
       "<table border=\"1\" class=\"dataframe\">\n",
       "  <thead>\n",
       "    <tr style=\"text-align: right;\">\n",
       "      <th></th>\n",
       "      <th>uuid</th>\n",
       "      <th>waze_timestamp</th>\n",
       "      <th>street</th>\n",
       "      <th>end_node</th>\n",
       "      <th>city</th>\n",
       "      <th>length</th>\n",
       "      <th>delay</th>\n",
       "      <th>speed</th>\n",
       "      <th>level</th>\n",
       "      <th>roadtype</th>\n",
       "      <th>line</th>\n",
       "    </tr>\n",
       "  </thead>\n",
       "  <tbody>\n",
       "    <tr>\n",
       "      <th>0</th>\n",
       "      <td>1833531258</td>\n",
       "      <td>2017-02-03 23:13:00:000</td>\n",
       "      <td>E Palomar St</td>\n",
       "      <td>Santa Andrea St</td>\n",
       "      <td>Chula Vista, CA</td>\n",
       "      <td>918</td>\n",
       "      <td>194</td>\n",
       "      <td>3.455556</td>\n",
       "      <td>3</td>\n",
       "      <td>2</td>\n",
       "      <td>LINESTRING (-117.004479 32.621195, -117.003013...</td>\n",
       "    </tr>\n",
       "    <tr>\n",
       "      <th>198</th>\n",
       "      <td>1833531258</td>\n",
       "      <td>2017-02-03 23:18:00:000</td>\n",
       "      <td>E Palomar St</td>\n",
       "      <td>Santa Andrea St</td>\n",
       "      <td>Chula Vista, CA</td>\n",
       "      <td>721</td>\n",
       "      <td>264</td>\n",
       "      <td>2.255556</td>\n",
       "      <td>3</td>\n",
       "      <td>2</td>\n",
       "      <td>LINESTRING (-117.002846 32.622301, -117.002729...</td>\n",
       "    </tr>\n",
       "    <tr>\n",
       "      <th>375</th>\n",
       "      <td>1833531258</td>\n",
       "      <td>2017-02-03 23:23:00:000</td>\n",
       "      <td>E Palomar St</td>\n",
       "      <td>Santa Andrea St</td>\n",
       "      <td>Chula Vista, CA</td>\n",
       "      <td>721</td>\n",
       "      <td>213</td>\n",
       "      <td>2.680556</td>\n",
       "      <td>3</td>\n",
       "      <td>2</td>\n",
       "      <td>LINESTRING (-117.002846 32.622301, -117.002729...</td>\n",
       "    </tr>\n",
       "    <tr>\n",
       "      <th>571</th>\n",
       "      <td>1833531258</td>\n",
       "      <td>2017-02-03 23:28:00:000</td>\n",
       "      <td>E Palomar St</td>\n",
       "      <td>NaN</td>\n",
       "      <td>Chula Vista, CA</td>\n",
       "      <td>431</td>\n",
       "      <td>176</td>\n",
       "      <td>2.063889</td>\n",
       "      <td>4</td>\n",
       "      <td>2</td>\n",
       "      <td>LINESTRING (-117.002846 32.622301, -117.002729...</td>\n",
       "    </tr>\n",
       "    <tr>\n",
       "      <th>739</th>\n",
       "      <td>1833531258</td>\n",
       "      <td>2017-02-03 23:33:00:000</td>\n",
       "      <td>E Palomar St</td>\n",
       "      <td>Santa Andrea St</td>\n",
       "      <td>Chula Vista, CA</td>\n",
       "      <td>525</td>\n",
       "      <td>157</td>\n",
       "      <td>2.619444</td>\n",
       "      <td>3</td>\n",
       "      <td>2</td>\n",
       "      <td>LINESTRING (-117.000909 32.622943, -116.998884...</td>\n",
       "    </tr>\n",
       "  </tbody>\n",
       "</table>\n",
       "</div>"
      ],
      "text/plain": [
       "           uuid           waze_timestamp        street         end_node  \\\n",
       "0    1833531258  2017-02-03 23:13:00:000  E Palomar St  Santa Andrea St   \n",
       "198  1833531258  2017-02-03 23:18:00:000  E Palomar St  Santa Andrea St   \n",
       "375  1833531258  2017-02-03 23:23:00:000  E Palomar St  Santa Andrea St   \n",
       "571  1833531258  2017-02-03 23:28:00:000  E Palomar St              NaN   \n",
       "739  1833531258  2017-02-03 23:33:00:000  E Palomar St  Santa Andrea St   \n",
       "\n",
       "                city  length  delay     speed  level  roadtype  \\\n",
       "0    Chula Vista, CA     918    194  3.455556      3         2   \n",
       "198  Chula Vista, CA     721    264  2.255556      3         2   \n",
       "375  Chula Vista, CA     721    213  2.680556      3         2   \n",
       "571  Chula Vista, CA     431    176  2.063889      4         2   \n",
       "739  Chula Vista, CA     525    157  2.619444      3         2   \n",
       "\n",
       "                                                  line  \n",
       "0    LINESTRING (-117.004479 32.621195, -117.003013...  \n",
       "198  LINESTRING (-117.002846 32.622301, -117.002729...  \n",
       "375  LINESTRING (-117.002846 32.622301, -117.002729...  \n",
       "571  LINESTRING (-117.002846 32.622301, -117.002729...  \n",
       "739  LINESTRING (-117.000909 32.622943, -116.998884...  "
      ]
     },
     "execution_count": 27,
     "metadata": {},
     "output_type": "execute_result"
    }
   ],
   "source": [
    "df.loc[df['uuid']==srcid]"
   ]
  },
  {
   "cell_type": "code",
   "execution_count": 24,
   "metadata": {
    "collapsed": false
   },
   "outputs": [],
   "source": [
    "point = df.loc[df['uuid']==srcid].iloc[0]"
   ]
  },
  {
   "cell_type": "code",
   "execution_count": 25,
   "metadata": {
    "collapsed": false
   },
   "outputs": [
    {
     "data": {
      "text/plain": [
       "uuid                                                     1833531258\n",
       "waze_timestamp                              2017-02-03 23:13:00:000\n",
       "street                                                 E Palomar St\n",
       "end_node                                            Santa Andrea St\n",
       "city                                                Chula Vista, CA\n",
       "length                                                          918\n",
       "delay                                                           194\n",
       "speed                                                       3.45556\n",
       "level                                                             3\n",
       "roadtype                                                          2\n",
       "line              LINESTRING (-117.004479 32.621195, -117.003013...\n",
       "Name: 0, dtype: object"
      ]
     },
     "execution_count": 25,
     "metadata": {},
     "output_type": "execute_result"
    }
   ],
   "source": [
    "point"
   ]
  },
  {
   "cell_type": "code",
   "execution_count": 37,
   "metadata": {
    "collapsed": false
   },
   "outputs": [],
   "source": [
    "traffic = df.loc[df['uuid']==srcid].iloc[0]\n",
    "traffic_metadata = dict((k, traffic[k]) for k in metadata_columns)"
   ]
  },
  {
   "cell_type": "code",
   "execution_count": null,
   "metadata": {
    "collapsed": false
   },
   "outputs": [],
   "source": [
    "# Structuring Metadata \n",
    "metadatas = dict()\n",
    "for srcid in srcids:\n",
    "    traffic = df.loc[df['uuid']==srcid].iloc[0]\n",
    "    traffic = dict((k, traffic[k]) for k in metadata_columns)\n",
    "    #for srcid in srcids:\n",
    "    traffic = dict()\n",
    "    traffic['waze_srcid'] = str(srcid)\n",
    "    for col in data_columns:\n",
    "        point_type = 'traffic_' + col\n",
    "        point = deepcopy(traffic)\n",
    "        name = get_name(srcid, point_type)\n",
    "        point['pointType'] = point_type\n",
    "        point['unit'] = unit_map[point_type]\n",
    "        point['name'] = name\n",
    "        metadatas[name] = point"
   ]
  },
  {
   "cell_type": "code",
   "execution_count": 74,
   "metadata": {
    "collapsed": false
   },
   "outputs": [],
   "source": [
    "name = 'waze_1830951324_traffic_speed'\n",
    "point = metadatas[name]"
   ]
  },
  {
   "cell_type": "code",
   "execution_count": null,
   "metadata": {
    "collapsed": false
   },
   "outputs": [],
   "source": [
    "# Metadata Registration to Citadel\n",
    "for name, metadata in metadatas.items():\n",
    "    uuids = citadel.query_points({'name': name})\n",
    "    if not uuids:\n",
    "        uuid = citadel.create_point(metadata)\n",
    "        if not res:\n",
    "            pdb.set_trace()\n",
    "    else:\n",
    "        uuid = uuids[0]\n",
    "    metadata['uuid'] = uuid"
   ]
  },
  {
   "cell_type": "code",
   "execution_count": null,
   "metadata": {
    "collapsed": true
   },
   "outputs": [],
   "source": [
    "with open('metadata/waze-metadata', 'w') as fp:\n",
    "    json.dump(fp, metadatas)"
   ]
  },
  {
   "cell_type": "code",
   "execution_count": null,
   "metadata": {
    "collapsed": false
   },
   "outputs": [],
   "source": [
    "len(df)"
   ]
  },
  {
   "cell_type": "code",
   "execution_count": null,
   "metadata": {
    "collapsed": true
   },
   "outputs": [],
   "source": [
    "arrow.get('2017-02-03 23:13:00:000')."
   ]
  },
  {
   "cell_type": "code",
   "execution_count": null,
   "metadata": {
    "collapsed": true
   },
   "outputs": [],
   "source": [
    "data = []\n",
    "for _, row in df.iterrows()[0:10]:\n",
    "    srcid = row['uuid']\n",
    "    t = arrow.get(row['waze_timestamp']).timestamp * 1000\n",
    "    line = xxxxxxx\n",
    "    for data_col in data_columns:\n",
    "        point_type = point_type_map[data_col]\n",
    "        name = get_name(srcid, point_type)\n",
    "        uuid = metadatas[name]['uuid']\n",
    "        datum = {\n",
    "            'value': row[data_col],\n",
    "            'coordinates': line,\n",
    "            'timestamp': arrow.get(),\n",
    "            'geometryType': 'line',\n",
    "            'uuid': uuid,\n",
    "        }\n",
    "        data.append(datum)"
   ]
  },
  {
   "cell_type": "code",
   "execution_count": null,
   "metadata": {
    "collapsed": true
   },
   "outputs": [],
   "source": [
    "res = citadel.post_data(data)"
   ]
  }
 ],
 "metadata": {
  "kernelspec": {
   "display_name": "Python 3",
   "language": "python",
   "name": "python3"
  },
  "language_info": {
   "codemirror_mode": {
    "name": "ipython",
    "version": 3
   },
   "file_extension": ".py",
   "mimetype": "text/x-python",
   "name": "python",
   "nbconvert_exporter": "python",
   "pygments_lexer": "ipython3",
   "version": "3.6.0"
  }
 },
 "nbformat": 4,
 "nbformat_minor": 2
}
