{
 "cells": [
  {
   "cell_type": "code",
   "execution_count": 29,
   "metadata": {
    "collapsed": false
   },
   "outputs": [],
   "source": [
    "import json\n",
    "import arrow\n",
    "from building_depot import DataService\n",
    "import pandas as pd\n",
    "from collections import defaultdict"
   ]
  },
  {
   "cell_type": "code",
   "execution_count": 20,
   "metadata": {
    "collapsed": false
   },
   "outputs": [],
   "source": [
    "with open(\"config/ion_config.json\", \"r\") as fp:\n",
    "    configs = json.load(fp)\n",
    "    base_url = configs['base_url']\n",
    "    start_time = arrow.get(configs['start_time']).datetime\n",
    "    end_time = arrow.get(configs['end_time']).datetime\n",
    "with open(\"config/bd2_3secrets.json\", \"r\") as fp:\n",
    "    cred = json.load(fp)\n",
    "    apikey = cred['api_key']\n",
    "    username = cred['username']\n",
    "    \n",
    "datadir = \"./data/\""
   ]
  },
  {
   "cell_type": "code",
   "execution_count": 32,
   "metadata": {
    "collapsed": true
   },
   "outputs": [],
   "source": [
    "def make_series(bd_data):\n",
    "    time_list = list()\n",
    "    value_list = list()\n",
    "    for datum in data:\n",
    "        time_list.append(list(datum.keys())[0])\n",
    "        value_list.append(list(datum.values())[0])\n",
    "    return pd.Series(index=time_list, data=value_list)"
   ]
  },
  {
   "cell_type": "code",
   "execution_count": 33,
   "metadata": {
    "collapsed": true
   },
   "outputs": [],
   "source": [
    "bd = DataService(base_url, apikey, username)\n",
    "orig_metadata_df = pd.DataFrame.from_csv('metadata/ion.txt', )"
   ]
  },
  {
   "cell_type": "code",
   "execution_count": 34,
   "metadata": {
    "collapsed": false
   },
   "outputs": [],
   "source": [
    "srcid_dict = defaultdict(dict)\n",
    "for srcid, row in orig_metadata_df.iterrows():\n",
    "    uuid = row['uuid']\n",
    "    data = bd.get_timeseries_datapoints(uuid, \"PresentValue\", start_time, end_time)['timeseries']\n",
    "    if len(data)>1:\n",
    "        sensor = bd.view_sensor(uuid)\n",
    "        srcid_dict[srcid]['bd_uuid'] = uuid\n",
    "        srcid_dict[srcid]['name'] = sensor['source_identifier']\n",
    "        make_series(data).to_csv(datadir+srcid+'.csv')"
   ]
  },
  {
   "cell_type": "code",
   "execution_count": 35,
   "metadata": {
    "collapsed": true
   },
   "outputs": [],
   "source": [
    "with open('metadata/raw_ion_metadata.json', 'w') as fp:\n",
    "    json.dump(srcid_dict, fp)"
   ]
  }
 ],
 "metadata": {
  "anaconda-cloud": {},
  "kernelspec": {
   "display_name": "Python 3",
   "language": "python",
   "name": "python3"
  },
  "language_info": {
   "codemirror_mode": {
    "name": "ipython",
    "version": 3
   },
   "file_extension": ".py",
   "mimetype": "text/x-python",
   "name": "python",
   "nbconvert_exporter": "python",
   "pygments_lexer": "ipython3",
   "version": "3.6.0"
  }
 },
 "nbformat": 4,
 "nbformat_minor": 1
}
