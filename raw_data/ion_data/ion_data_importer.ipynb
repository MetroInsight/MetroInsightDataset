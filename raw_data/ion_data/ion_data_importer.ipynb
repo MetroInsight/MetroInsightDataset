{
 "cells": [
  {
   "cell_type": "code",
   "execution_count": 6,
   "metadata": {
    "collapsed": true
   },
   "outputs": [],
   "source": [
    "with open(\"config/ion_config.json\", \"r\") as fp:\n",
    "    configs = json.load(fp)\n",
    "    username = configs['username']\n",
    "    apikey = configs['api_key']\n",
    "    base_url = configs['base_url']\n",
    "    start_time = arrow.get(configs['start_time']).datetime\n",
    "    end_time = arrow.get(configs['end_time']).datetime\n",
    "datadir = \"./data/\""
   ]
  },
  {
   "cell_type": "code",
   "execution_count": 3,
   "metadata": {
    "collapsed": true
   },
   "outputs": [],
   "source": [
    "def make_series(bd_data):\n",
    "    time_list = list()\n",
    "    value_list = list()\n",
    "    for datum in data:\n",
    "        time_list.append(datum.keys()[0])\n",
    "        value_list.append(datum.values()[0])\n",
    "    return pd.Series(index=time_list, data=value_list)"
   ]
  },
  {
   "cell_type": "code",
   "execution_count": 4,
   "metadata": {
    "collapsed": true
   },
   "outputs": [],
   "source": [
    "bd = DataService(base_url, apikey, username)\n",
    "orig_metadata_df = pd.DataFrame.from_csv('metadata/ion.txt', )"
   ]
  },
  {
   "cell_type": "code",
   "execution_count": 7,
   "metadata": {
    "collapsed": false
   },
   "outputs": [],
   "source": [
    "srcid_dict = dict()\n",
    "for uuid in orig_metadata_df['uuid']:\n",
    "    data = bd.get_timeseries_datapoints(uuid, \"PresentValue\", start_time, end_time)['timeseries']\n",
    "    if len(data)>1:\n",
    "        sensor = bd.view_sensor(uuid)\n",
    "        srcid_dict[uuid] = sensor['source_identifier']\n",
    "        #make_series(data).to_csv(datadir+uuid+'.csv')"
   ]
  }
 ],
 "metadata": {
  "anaconda-cloud": {},
  "kernelspec": {
   "display_name": "Python [conda root]",
   "language": "python",
   "name": "conda-root-py"
  },
  "language_info": {
   "codemirror_mode": {
    "name": "ipython",
    "version": 2
   },
   "file_extension": ".py",
   "mimetype": "text/x-python",
   "name": "python",
   "nbconvert_exporter": "python",
   "pygments_lexer": "ipython2",
   "version": "2.7.12"
  }
 },
 "nbformat": 4,
 "nbformat_minor": 1
}
