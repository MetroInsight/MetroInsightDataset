{
 "cells": [
  {
   "cell_type": "code",
   "execution_count": 14,
   "metadata": {
    "collapsed": false
   },
   "outputs": [],
   "source": [
    "import requests\n",
    "import pprint\n",
    "import arrow\n",
    "import pandas as pd\n",
    "import json\n",
    "pp = pprint.PrettyPrinter(indent=2)"
   ]
  },
  {
   "cell_type": "code",
   "execution_count": 15,
   "metadata": {
    "collapsed": false
   },
   "outputs": [],
   "source": [
    "base_url = \"https://firemap.sdsc.edu:5443/stations\"\n",
    "\n",
    "with open('metadata/wifire_unit_map.json', 'r') as fp:\n",
    "    unit_map = json.load(fp)\n",
    "\n",
    "with open('metadata/wifire_point_map.json', 'r') as fp:\n",
    "    point_map = json.load(fp)"
   ]
  },
  {
   "cell_type": "code",
   "execution_count": 16,
   "metadata": {
    "collapsed": false
   },
   "outputs": [],
   "source": [
    "sdsc_lat = 32.88437231\n",
    "sdsc_lon = -117.2414495\n",
    "## Latitude and Longitude of the center of the bounding box  \n",
    "params = {\n",
    "    'minLat': sdsc_lat - 0.075,\n",
    "    'minLon': sdsc_lon - 0.075,\n",
    "    'maxLat': sdsc_lat + 0.075,\n",
    "    'maxLon': sdsc_lon + 0.075,\n",
    "    'selection': 'boundingBox'\n",
    "}\n",
    "now = arrow.Arrow.now()\n",
    "\n",
    "\n",
    "## Fill in a string to append to the URL and from a box around the chosen Latitude and Longitude\n",
    "\n",
    "boundingBoxURL= base_url\n",
    "## concatenate strings to form a final URL\n",
    "data = requests.get(base_url, params=params).json()\n",
    "\n",
    "observable_set = set()\n",
    "features = data['features']\n",
    "for feature in features:\n",
    "    properties = feature['properties']\n",
    "    for observable in properties.keys():\n",
    "        if observable not in ['description', \\\n",
    "                              'distanceFromLocation', \\\n",
    "                             'latest-images']:\n",
    "            observable_set.add(observable)"
   ]
  },
  {
   "cell_type": "code",
   "execution_count": 17,
   "metadata": {
    "collapsed": false
   },
   "outputs": [],
   "source": [
    "metadata_dict = dict()\n",
    "for observable in observable_set:\n",
    "    baseURL = \"https://firemap.sdsc.edu:5443/stations/data?\"\n",
    "    to = arrow.Arrow.now()\n",
    "    frm = to.replace(days=-30)\n",
    "    #selectionType=\"selection=closestTo\"\n",
    "    selectionType = \"selection=boundingBox\"\n",
    "    #selectionParameters = \"&lat=%s&lon=%s\" % (str(lat),str(lon))\n",
    "    selectionParameters = \"&minLat=%s&minLon=%s&maxLat=%s&maxLon=%s\" \\\n",
    "                            % ( str(params['minLat']), str(params['minLon']),\\\n",
    "                               str(params['maxLat']), str(params['maxLon']) )\n",
    "    urlDateTime = \"&from=%s&to=%s\" % ( str(frm) , str(to) )\n",
    "    observableInfo = \"&observable=\" + observable\n",
    "    urlPlot = baseURL \\\n",
    "            + selectionType \\\n",
    "            + selectionParameters \\\n",
    "            + observableInfo \\\n",
    "            + urlDateTime\n",
    "    data = requests.get(urlPlot).json()\n",
    "    features = data['features']\n",
    "    for feature in features:\n",
    "        point_name = feature['properties']['description']['name'] + '_' + observable\n",
    "        metadata = {\n",
    "            'latitude': feature['geometry']['coordinates'][1],\n",
    "            'longitude': feature['geometry']['coordinates'][0],\n",
    "            'point_type': point_map[observable],\n",
    "            'unit': unit_map[feature['properties']['units'][observable]],\n",
    "            'name': point_name\n",
    "        }\n",
    "        value_list = feature['properties'][observable]\n",
    "        time_list = feature['properties']['timestamp']\n",
    "        time_list = [arrow.get(t).timestamp for t in time_list]\n",
    "        pd.Series(index=time_list, data=value_list) \\\n",
    "            .to_csv('data/%s.csv' % point_name, index_label='time', header=['value'])\n",
    "        metadata_dict[point_name] = metadata"
   ]
  },
  {
   "cell_type": "code",
   "execution_count": 18,
   "metadata": {
    "collapsed": false
   },
   "outputs": [
    {
     "data": {
      "text/plain": [
       "1486859820"
      ]
     },
     "execution_count": 18,
     "metadata": {},
     "output_type": "execute_result"
    }
   ],
   "source": [
    "arrow.get(time_list[0]).timestamp"
   ]
  },
  {
   "cell_type": "code",
   "execution_count": 19,
   "metadata": {
    "collapsed": false
   },
   "outputs": [],
   "source": [
    "with open('metadata/wifire_metadata.json', 'w') as fp:\n",
    "    json.dump(metadata_dict, fp, indent=4)"
   ]
  },
  {
   "cell_type": "code",
   "execution_count": null,
   "metadata": {
    "collapsed": true
   },
   "outputs": [],
   "source": []
  }
 ],
 "metadata": {
  "kernelspec": {
   "display_name": "Python 3",
   "language": "python",
   "name": "python3"
  },
  "language_info": {
   "codemirror_mode": {
    "name": "ipython",
    "version": 3
   },
   "file_extension": ".py",
   "mimetype": "text/x-python",
   "name": "python",
   "nbconvert_exporter": "python",
   "pygments_lexer": "ipython3",
   "version": "3.6.0"
  }
 },
 "nbformat": 4,
 "nbformat_minor": 2
}
