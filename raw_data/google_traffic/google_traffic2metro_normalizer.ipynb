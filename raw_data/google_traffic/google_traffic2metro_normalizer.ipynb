{
 "cells": [
  {
   "cell_type": "code",
   "execution_count": 1,
   "metadata": {
    "collapsed": false
   },
   "outputs": [],
   "source": [
    "import json\n",
    "import rdflib\n",
    "from uuid import uuid4 as uuid\n",
    "import json\n",
    "import pandas as pd"
   ]
  },
  {
   "cell_type": "code",
   "execution_count": 5,
   "metadata": {
    "collapsed": true
   },
   "outputs": [],
   "source": [
    "with open('metadata/routes.json', 'r') as fp:\n",
    "    routes_dict = json.load(fp)"
   ]
  },
  {
   "cell_type": "code",
   "execution_count": 12,
   "metadata": {
    "collapsed": false
   },
   "outputs": [],
   "source": [
    "metadata_dict = dict()\n",
    "for srcid, routes in routes_dict.items():\n",
    "    metadata = {\n",
    "        'unit': 'SEC',\n",
    "        'point_type': 'time',\n",
    "        'latitude': routes[0][0],\n",
    "        'longitude': routes[0][1],\n",
    "        'start_latitude': routes[0][0],\n",
    "        'start_longitude': routes[0][1],\n",
    "        'end_latitude': routes[1][0],\n",
    "        'end_longitude': routes[1][1],\n",
    "        'name': srcid+'_travel_time'\n",
    "    }\n",
    "    metadata_dict[srcid] = metadata\n",
    "with open('metadata/google_traffic_metadata.json', 'w') as fp:\n",
    "    json.dump(metadata_dict, fp, indent=2)"
   ]
  }
 ],
 "metadata": {
  "anaconda-cloud": {},
  "kernelspec": {
   "display_name": "Python 3",
   "language": "python",
   "name": "python3"
  },
  "language_info": {
   "codemirror_mode": {
    "name": "ipython",
    "version": 3
   },
   "file_extension": ".py",
   "mimetype": "text/x-python",
   "name": "python",
   "nbconvert_exporter": "python",
   "pygments_lexer": "ipython3",
   "version": "3.6.0"
  }
 },
 "nbformat": 4,
 "nbformat_minor": 1
}
