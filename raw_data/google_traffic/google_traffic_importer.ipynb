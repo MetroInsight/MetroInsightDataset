{
 "cells": [
  {
   "cell_type": "code",
   "execution_count": 1,
   "metadata": {
    "collapsed": true
   },
   "outputs": [],
   "source": [
    "import requests\n",
    "import json\n",
    "import pandas as pd"
   ]
  },
  {
   "cell_type": "code",
   "execution_count": 2,
   "metadata": {
    "collapsed": false
   },
   "outputs": [],
   "source": [
    "with open('config/google_traffic_config.json', 'r') as fp:\n",
    "    configs = json.load(fp)\n",
    "    base_url = configs['db_url']\n",
    "with open('metadata/google_traffic_metadata.json', 'r') as fp:\n",
    "    route_dict = json.load(fp)"
   ]
  },
  {
   "cell_type": "code",
   "execution_count": 3,
   "metadata": {
    "collapsed": false
   },
   "outputs": [],
   "source": [
    "dir_name = \"data\"\n",
    "for route_name, route in route_dict.items():\n",
    "    query_url = base_url+\"/query\"\n",
    "    params = dict()\n",
    "    params['db'] = 'google_traffic'\n",
    "    query = 'SELECT * FROM %s'%route_name\n",
    "    params['q'] = query\n",
    "    resp = requests.get(query_url, params=params).json()\n",
    "    time_list = list()\n",
    "    value_list = list()\n",
    "    for val in resp['results'][0]['series'][0]['values']:\n",
    "        time_list.append(val[0])\n",
    "        value_list.append(val[5])\n",
    "    filename = dir_name + \"/\" + route_name + '.csv'\n",
    "    pd.Series(index=time_list, data=value_list).to_csv(filename)"
   ]
  },
  {
   "cell_type": "code",
   "execution_count": null,
   "metadata": {
    "collapsed": true
   },
   "outputs": [],
   "source": []
  }
 ],
 "metadata": {
  "anaconda-cloud": {},
  "kernelspec": {
   "display_name": "Python [conda root]",
   "language": "python",
   "name": "conda-root-py"
  },
  "language_info": {
   "codemirror_mode": {
    "name": "ipython",
    "version": 2
   },
   "file_extension": ".py",
   "mimetype": "text/x-python",
   "name": "python",
   "nbconvert_exporter": "python",
   "pygments_lexer": "ipython2",
   "version": "2.7.12"
  }
 },
 "nbformat": 4,
 "nbformat_minor": 1
}
