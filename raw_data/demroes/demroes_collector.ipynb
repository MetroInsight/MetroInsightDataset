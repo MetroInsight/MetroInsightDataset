{
 "cells": [
  {
   "cell_type": "code",
   "execution_count": 113,
   "metadata": {
    "collapsed": false
   },
   "outputs": [],
   "source": [
    "import requests\n",
    "import wget\n",
    "import json\n",
    "from os.path import isfile, join\n",
    "from os import listdir\n",
    "import pandas as pd\n",
    "import arrow\n",
    "from matplotlib import pyplot as plt"
   ]
  },
  {
   "cell_type": "code",
   "execution_count": 114,
   "metadata": {
    "collapsed": false
   },
   "outputs": [],
   "source": [
    "with open('config/demroes_config.json', 'r') as fp:\n",
    "    config = json.load(fp)\n",
    "with open('metadata/raw_demroes_metadata.json', 'r') as fp:\n",
    "    metadata_dict = json.load(fp)\n",
    "with open('metadata/demroes_point_map.json', 'r') as fp:\n",
    "    point_map = json.load(fp)\n",
    "with open('metadata/demroes_unit_map.json', 'r') as fp:\n",
    "    unit_map = json.load(fp)"
   ]
  },
  {
   "cell_type": "code",
   "execution_count": 115,
   "metadata": {
    "collapsed": false
   },
   "outputs": [],
   "source": [
    "for building_name, item in config.items():\n",
    "    url = item['url']\n",
    "    filename = 'raw_data/' + url.split('/')[-1]\n",
    "    wget.download(url, out=filename)"
   ]
  },
  {
   "cell_type": "code",
   "execution_count": 116,
   "metadata": {
    "collapsed": false
   },
   "outputs": [],
   "source": [
    "raw_data_dir = './raw_data/'\n",
    "files = [f for f in listdir(raw_data_dir) if isfile(join(raw_data_dir, f))]"
   ]
  },
  {
   "cell_type": "code",
   "execution_count": 117,
   "metadata": {
    "collapsed": false
   },
   "outputs": [],
   "source": [
    "datadir = './data/'\n",
    "new_metadata_dict = dict()\n",
    "for f in files:\n",
    "    filename = raw_data_dir + f\n",
    "    df = pd.read_csv(filename)\n",
    "    time_list = [arrow.get(arrow.get(timestamp, 'MM/DD/YY HH:mm').datetime, 'US/Pacific') \\\n",
    "                 for timestamp in df['Timestamp'].tolist()]\n",
    "    for data_name, column in df.iteritems():\n",
    "        point_type = point_map.get(data_name)\n",
    "        if not point_type:\n",
    "            continue\n",
    "        new_metadata = dict()\n",
    "        srcid = f.split('.')[0] + '_' + point_type\n",
    "        value_list = column.tolist()\n",
    "        data = pd.Series(index=time_list, data=value_list)\n",
    "        data.to_csv(datadir+srcid+'.csv', index_label='time', header=['value'])\n",
    "        new_metadata['point_type'] = point_type\n",
    "        new_metadata['unit'] = unit_map[data_name]\n",
    "        new_metadata['name'] = srcid\n",
    "        building_id = f.split('_')[0].lower()\n",
    "        new_metadata['latitude'] = metadata_dict[building_id]['location']['latitude']\n",
    "        new_metadata['longitude'] = metadata_dict[building_id]['location']['longitude']\n",
    "        new_metadata_dict[srcid] = new_metadata        "
   ]
  },
  {
   "cell_type": "code",
   "execution_count": 118,
   "metadata": {
    "collapsed": true
   },
   "outputs": [],
   "source": [
    "for f in files:\n",
    "    filename = raw_data_dir + f\n",
    "    os.remove(filename)"
   ]
  },
  {
   "cell_type": "code",
   "execution_count": 119,
   "metadata": {
    "collapsed": false
   },
   "outputs": [],
   "source": [
    "with open('metadata/demroes_metadata.json', 'w') as fp:\n",
    "    json.dump(new_metadata_dict, fp)"
   ]
  }
 ],
 "metadata": {
  "kernelspec": {
   "display_name": "Python 3",
   "language": "python",
   "name": "python3"
  },
  "language_info": {
   "codemirror_mode": {
    "name": "ipython",
    "version": 3
   },
   "file_extension": ".py",
   "mimetype": "text/x-python",
   "name": "python",
   "nbconvert_exporter": "python",
   "pygments_lexer": "ipython3",
   "version": "3.6.0"
  }
 },
 "nbformat": 4,
 "nbformat_minor": 2
}
