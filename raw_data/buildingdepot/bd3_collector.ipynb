{
 "cells": [
  {
   "cell_type": "code",
   "execution_count": 1,
   "metadata": {
    "collapsed": false
   },
   "outputs": [],
   "source": [
    "from bd3client.CentralService import CentralService\n",
    "from bd3client.Sensor import Sensor\n",
    "from bd3client.Timeseries import Timeseries\n",
    "import os\n",
    "import json\n",
    "import arrow\n",
    "import pandas as pd"
   ]
  },
  {
   "cell_type": "code",
   "execution_count": 4,
   "metadata": {
    "collapsed": false
   },
   "outputs": [],
   "source": [
    "\n",
    "with open(\"config/bd3config.json\", \"r\") as fp:\n",
    "    configs = json.load(fp)\n",
    "    hostname = configs['hostname']\n",
    "    valid_naes = configs['valid_naes']\n",
    "    base_dir = configs['base_dir']\n",
    "    begin_time = arrow.get(configs['begin_time']).timestamp\n",
    "    end_time = arrow.get(configs['end_time']).timestamp\n",
    "with open(\"config/bd3credential.json\", \"r\") as fp:\n",
    "    cred = json.load(fp)\n",
    "    cid = cred['cid']\n",
    "    ckey = cred['ckey']\n",
    "cs = CentralService(hostname, cid, ckey)\n",
    "sensor_api = Sensor(cs)\n",
    "ts_api = Timeseries(cs)\n",
    "\n",
    "with open(\"metadata/bacnet_devices.json\", \"r\") as fp:\n",
    "    bacnet_devices = json.load(fp)"
   ]
  },
  {
   "cell_type": "code",
   "execution_count": 5,
   "metadata": {
    "collapsed": false,
    "scrolled": true
   },
   "outputs": [
    {
     "name": "stdout",
     "output_type": "stream",
     "text": [
      "0\n",
      "500\n",
      "1000\n",
      "1500\n",
      "2000\n",
      "2500\n",
      "3000\n",
      "3500\n",
      "4000\n",
      "4500\n",
      "5000\n",
      "5500\n",
      "6000\n",
      "6500\n",
      "7000\n",
      "7500\n",
      "8000\n",
      "8500\n",
      "9000\n",
      "9500\n",
      "10000\n",
      "10500\n",
      "11000\n",
      "11500\n",
      "12000\n",
      "12500\n",
      "13000\n",
      "13500\n"
     ]
    }
   ],
   "source": [
    "uuid_dict = dict()\n",
    "i = 0\n",
    "for nae_name in valid_naes:\n",
    "    objs = bacnet_devices[nae_name]['objs']\n",
    "    for obj in objs:\n",
    "        if obj['data_type'] not in [0,1,2,3,4,5,13,14,19]:\n",
    "            continue        \n",
    "        if i%500==0:\n",
    "            print i\n",
    "        i += 1\n",
    "        props = obj['props']\n",
    "        tag_val_dict = {\n",
    "            'BACNet_DataType': obj['data_type'],\n",
    "            'BACNet_InstanceNumber':obj['props']['instance'],\n",
    "            'NAENum':nae_name\n",
    "            }\n",
    "        srcid = str(nae_name) + \"_\" + str(obj['data_type']) + \"_\" + str(obj['props']['instance'])\n",
    "        try:\n",
    "            uuid = sensor_api.search(tag_val_dict)['result'][0]['name']\n",
    "            uuid_dict[srcid] = uuid\n",
    "        except:\n",
    "            print '----------------'\n",
    "            print srcid\n",
    "            print sensor_api.search(tag_val_dict)        "
   ]
  },
  {
   "cell_type": "code",
   "execution_count": 6,
   "metadata": {
    "collapsed": false
   },
   "outputs": [
    {
     "name": "stdout",
     "output_type": "stream",
     "text": [
      "523_2_3008181 3febbbb6-2042-4047-bd7c-62fed9cbdaa3\n",
      "{u'data': {}, u'success': u'True'}\n",
      "523_2_3008180 3ab69a1c-58ea-49a5-bc95-287133078572\n",
      "{u'data': {}, u'success': u'True'}\n",
      "523_2_3010581 eee89371-12bf-4da7-85c7-147a6a911fa0\n",
      "{u'data': {}, u'success': u'True'}\n",
      "572_3_3017087 ec0a3735-95a4-44db-8c4d-f9062854a278\n",
      "{u'data': {}, u'success': u'True'}\n",
      "572_3_3017086 9007894e-b309-4c2d-a3e3-977d7da33605\n",
      "{u'data': {}, u'success': u'True'}\n",
      "668_0_3000013 269f85b2-e934-4797-8255-554b59c28c08\n",
      "{u'data': {}, u'success': u'True'}\n",
      "520_1_3002195 23ea0055-d62c-48b2-9c33-d77a860c7b21\n",
      "{u'data': {}, u'success': u'True'}\n",
      "523_2_3008174 fc3faa50-6792-4153-a903-a92c42a3dcc0\n",
      "{u'data': {}, u'success': u'True'}\n",
      "523_2_3008175 ffd040a2-c22a-4732-bd99-94b4f8c924b9\n",
      "{u'data': {}, u'success': u'True'}\n",
      "523_2_3008176 5e694b3e-9d67-40f7-b61c-1a76caaa94ca\n",
      "{u'data': {}, u'success': u'True'}\n"
     ]
    }
   ],
   "source": [
    "header = ['value']\n",
    "index_label=\"time\"\n",
    "for srcid, uuid in uuid_dict.items():\n",
    "    try:\n",
    "        ts = ts_api.getTimeseriesDataPoints(uuid, begin_time, end_time)\n",
    "        time_list = [arrow.get(row[0]) for row in ts['data']['series'][0]['values']]\n",
    "        value_list = [row[2] for row in ts['data']['series'][0]['values']]\n",
    "        filename = base_dir + \"/\" + srcid + \".csv\"\n",
    "        pd.Series(index=time_list, data=value_list).to_csv(filename, header=header, index_label=index_label)\n",
    "    except:\n",
    "        print srcid, uuid\n",
    "        print ts_api.getTimeseriesDataPoints(uuid, begin_time, end_time)"
   ]
  },
  {
   "cell_type": "code",
   "execution_count": null,
   "metadata": {
    "collapsed": false
   },
   "outputs": [],
   "source": []
  },
  {
   "cell_type": "code",
   "execution_count": null,
   "metadata": {
    "collapsed": true
   },
   "outputs": [],
   "source": []
  }
 ],
 "metadata": {
  "anaconda-cloud": {},
  "kernelspec": {
   "display_name": "Python [conda root]",
   "language": "python",
   "name": "conda-root-py"
  },
  "language_info": {
   "codemirror_mode": {
    "name": "ipython",
    "version": 2
   },
   "file_extension": ".py",
   "mimetype": "text/x-python",
   "name": "python",
   "nbconvert_exporter": "python",
   "pygments_lexer": "ipython2",
   "version": "2.7.12"
  }
 },
 "nbformat": 4,
 "nbformat_minor": 1
}
