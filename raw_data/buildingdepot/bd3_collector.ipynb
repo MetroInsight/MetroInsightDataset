{
 "cells": [
  {
   "cell_type": "code",
   "execution_count": 1,
   "metadata": {
    "collapsed": false
   },
   "outputs": [],
   "source": [
    "from bd3client.CentralService import CentralService\n",
    "from bd3client.Sensor import Sensor\n",
    "from bd3client.Timeseries import Timeseries\n",
    "import os\n",
    "import json\n",
    "import arrow\n",
    "import pandas as pd"
   ]
  },
  {
   "cell_type": "code",
   "execution_count": 3,
   "metadata": {
    "collapsed": false
   },
   "outputs": [],
   "source": [
    "with open(\"config/bd3config.json\", \"r\") as fp:\n",
    "    configs = json.load(fp)\n",
    "    hostname = configs['hostname']\n",
    "    valid_naes = configs['valid_naes']\n",
    "    base_dir = configs['base_dir']\n",
    "    begin_time = arrow.get(configs['begin_time']).timestamp\n",
    "    end_time = arrow.get(configs['end_time']).timestamp\n",
    "with open(\"config/bd3secrets.json\", \"r\") as fp:\n",
    "    cred = json.load(fp)\n",
    "    cid = cred['cid']\n",
    "    ckey = cred['ckey']\n",
    "cs = CentralService(hostname, cid, ckey)\n",
    "sensor_api = Sensor(cs)\n",
    "ts_api = Timeseries(cs)\n",
    "\n",
    "with open(\"metadata/bacnet_devices.json\", \"r\") as fp:\n",
    "    bacnet_devices = json.load(fp)"
   ]
  },
  {
   "cell_type": "code",
   "execution_count": 6,
   "metadata": {
    "collapsed": false,
    "scrolled": true
   },
   "outputs": [
    {
     "name": "stdout",
     "output_type": "stream",
     "text": [
      "0\n",
      "500\n",
      "1000\n",
      "1500\n",
      "2000\n",
      "2500\n",
      "3000\n",
      "3500\n",
      "4000\n",
      "4500\n",
      "5000\n",
      "5500\n",
      "6000\n",
      "6500\n",
      "7000\n",
      "7500\n",
      "8000\n",
      "8500\n",
      "9000\n",
      "9500\n",
      "10000\n",
      "10500\n",
      "11000\n",
      "11500\n",
      "12000\n",
      "12500\n",
      "13000\n",
      "13500\n"
     ]
    }
   ],
   "source": [
    "uuid_dict = dict()\n",
    "i = 0\n",
    "for nae_name in valid_naes:\n",
    "    objs = bacnet_devices[nae_name]['objs']\n",
    "    for obj in objs:\n",
    "        if obj['data_type'] not in [0,1,2,3,4,5,13,14,19]:\n",
    "            continue        \n",
    "        if i%500==0:\n",
    "            print(i)\n",
    "        i += 1\n",
    "        props = obj['props']\n",
    "        tag_val_dict = {\n",
    "            'BACNet_DataType': obj['data_type'],\n",
    "            'BACNet_InstanceNumber':obj['props']['instance'],\n",
    "            'NAENum':nae_name\n",
    "            }\n",
    "        srcid = str(nae_name) + \"_\" + str(obj['data_type']) + \"_\" + str(obj['props']['instance'])\n",
    "        try:\n",
    "            uuid = sensor_api.search(tag_val_dict)['result'][0]['name']\n",
    "            uuid_dict[srcid] = uuid\n",
    "        except:\n",
    "            print('----------------')\n",
    "            print(srcid)\n",
    "            print(sensor_api.search(tag_val_dict))"
   ]
  },
  {
   "cell_type": "code",
   "execution_count": 7,
   "metadata": {
    "collapsed": false
   },
   "outputs": [
    {
     "ename": "SyntaxError",
     "evalue": "Missing parentheses in call to 'print' (<ipython-input-7-5ad2fe4d90d1>, line 11)",
     "output_type": "error",
     "traceback": [
      "\u001b[0;36m  File \u001b[0;32m\"<ipython-input-7-5ad2fe4d90d1>\"\u001b[0;36m, line \u001b[0;32m11\u001b[0m\n\u001b[0;31m    print srcid, uuid\u001b[0m\n\u001b[0m              ^\u001b[0m\n\u001b[0;31mSyntaxError\u001b[0m\u001b[0;31m:\u001b[0m Missing parentheses in call to 'print'\n"
     ]
    }
   ],
   "source": [
    "header = ['value']\n",
    "index_label=\"time\"\n",
    "for srcid, uuid in uuid_dict.items():\n",
    "    try:\n",
    "        ts = ts_api.getTimeseriesDataPoints(uuid, begin_time, end_time)\n",
    "        time_list = [arrow.get(row[0]) for row in ts['data']['series'][0]['values']]\n",
    "        value_list = [row[2] for row in ts['data']['series'][0]['values']]\n",
    "        filename = base_dir + \"/\" + srcid + \".csv\"\n",
    "        pd.Series(index=time_list, data=value_list).to_csv(filename, header=header, index_label=index_label)\n",
    "    except:\n",
    "        print srcid, uuid\n",
    "        print ts_api.getTimeseriesDataPoints(uuid, begin_time, end_time)"
   ]
  },
  {
   "cell_type": "code",
   "execution_count": null,
   "metadata": {
    "collapsed": false
   },
   "outputs": [],
   "source": []
  },
  {
   "cell_type": "code",
   "execution_count": null,
   "metadata": {
    "collapsed": true
   },
   "outputs": [],
   "source": []
  }
 ],
 "metadata": {
  "anaconda-cloud": {},
  "kernelspec": {
   "display_name": "Python 3",
   "language": "python",
   "name": "python3"
  },
  "language_info": {
   "codemirror_mode": {
    "name": "ipython",
    "version": 3
   },
   "file_extension": ".py",
   "mimetype": "text/x-python",
   "name": "python",
   "nbconvert_exporter": "python",
   "pygments_lexer": "ipython3",
   "version": "3.6.0"
  }
 },
 "nbformat": 4,
 "nbformat_minor": 1
}
